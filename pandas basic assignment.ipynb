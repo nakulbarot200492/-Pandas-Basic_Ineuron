{
 "cells": [
  {
   "cell_type": "markdown",
   "id": "ed3acaba-e659-4c64-ba24-119268a3a73a",
   "metadata": {},
   "source": [
    "### Q1. Create a Pandas Series that contains the following data: 4, 8, 15, 16, 23, and 42. Then, print the series."
   ]
  },
  {
   "cell_type": "code",
   "execution_count": 1,
   "id": "9f82ed8e-caa6-48d5-b90f-8ed12cdc2479",
   "metadata": {},
   "outputs": [
    {
     "name": "stdout",
     "output_type": "stream",
     "text": [
      "0     4\n",
      "1     8\n",
      "2    15\n",
      "3    16\n",
      "4    23\n",
      "5    42\n",
      "dtype: int64\n"
     ]
    }
   ],
   "source": [
    "import pandas as pd\n",
    "\n",
    "# Create the series\n",
    "series = pd.Series([4, 8, 15, 16, 23, 42])\n",
    "\n",
    "# Print the series\n",
    "print(series)"
   ]
  },
  {
   "cell_type": "markdown",
   "id": "803d84f1-644e-498b-b0b7-da552dc8baf5",
   "metadata": {},
   "source": [
    "### Q2. Create a variable of list type containing 10 elements in it, and apply pandas.Series function on the variable print it."
   ]
  },
  {
   "cell_type": "code",
   "execution_count": 2,
   "id": "4dd784e0-7ed9-481e-bb79-6af2531e5967",
   "metadata": {},
   "outputs": [
    {
     "name": "stdout",
     "output_type": "stream",
     "text": [
      "0     1\n",
      "1     2\n",
      "2     3\n",
      "3     4\n",
      "4     5\n",
      "5     6\n",
      "6     7\n",
      "7     8\n",
      "8     9\n",
      "9    10\n",
      "dtype: int64\n"
     ]
    }
   ],
   "source": [
    "import pandas as pd\n",
    "\n",
    "# Create a list with 10 elements\n",
    "my_list = [1, 2, 3, 4, 5, 6, 7, 8, 9, 10]\n",
    "\n",
    "# Apply pandas.Series function to the list\n",
    "series = pd.Series(my_list)\n",
    "\n",
    "# Print the series\n",
    "print(series)"
   ]
  },
  {
   "cell_type": "markdown",
   "id": "fa3bfbc6-413b-4383-921e-392f4040b8bd",
   "metadata": {},
   "source": [
    "### Q3. Create a Pandas DataFrame that contains the following data:\n",
    "#### Name: Alice, Bob, Claire\n",
    "#### Age: 25, 30, 27\n",
    "#### Gender: Female, Male, Female\n",
    "Then, print the DataFrame."
   ]
  },
  {
   "cell_type": "code",
   "execution_count": 4,
   "id": "26e6be5a-c0a8-4018-80fc-582b6fb1b80e",
   "metadata": {},
   "outputs": [
    {
     "name": "stdout",
     "output_type": "stream",
     "text": [
      "     Name  Age  Gender\n",
      "0   Alice   25  Female\n",
      "1     Bob   30    Male\n",
      "2  Claire   27  Female\n",
      "<class 'pandas.core.frame.DataFrame'>\n"
     ]
    }
   ],
   "source": [
    "import pandas as pd\n",
    "\n",
    "# Create the DataFrame\n",
    "data = {\n",
    "    'Name': ['Alice', 'Bob', 'Claire'],\n",
    "    'Age': [25, 30, 27],\n",
    "    'Gender': ['Female', 'Male', 'Female']\n",
    "}\n",
    "df = pd.DataFrame(data)\n",
    "\n",
    "# Print the DataFrame\n",
    "print(df)\n",
    "print(type(df))"
   ]
  },
  {
   "cell_type": "markdown",
   "id": "5bb2934f-89ae-47e6-9ee3-a4fa0a44c0c3",
   "metadata": {},
   "source": [
    "### Q4. What is 'DataFrame' in pandas and how is it different from pandas.series? Explain with an example."
   ]
  },
  {
   "cell_type": "raw",
   "id": "6dde7ca3-3699-449f-ac5d-1d32bcfd126b",
   "metadata": {},
   "source": [
    "A DataFrame is a 2-dimensional labeled data structure in Pandas, similar to a table in a relational database or a spreadsheet. It can hold data of different types (numeric, string, boolean, etc.) in columns.\n",
    "A Series, on the other hand, is a 1-dimensional labeled array that can hold data of any type.\n",
    "The main differences are:\n",
    "\n",
    "1. Dimensionality: DataFrame is 2D, Series is 1D.\n",
    "2. Column labels: DataFrame has column labels, Series doesn't\n",
    "3. Data types: DataFrame can have different types per column, Series has one type for all elements."
   ]
  },
  {
   "cell_type": "code",
   "execution_count": 7,
   "id": "c4c19ea8-60c5-4f11-9fdf-863f80445c97",
   "metadata": {},
   "outputs": [
    {
     "name": "stdout",
     "output_type": "stream",
     "text": [
      "a    1\n",
      "b    2\n",
      "c    3\n",
      "d    4\n",
      "dtype: int64\n",
      "   A  B      C\n",
      "0  1  a   True\n",
      "1  2  b  False\n",
      "2  3  c   True\n"
     ]
    }
   ],
   "source": [
    "## Example(Q-4)\n",
    "# Series\n",
    "s = pd.Series([1, 2, 3, 4], index=['a', 'b', 'c', 'd'])\n",
    "print(s)\n",
    "\n",
    "# DataFrame\n",
    "df = pd.DataFrame({\n",
    "    'A': [1, 2, 3],\n",
    "    'B': ['a', 'b', 'c'],\n",
    "    'C': [True, False, True]\n",
    "})\n",
    "print(df)"
   ]
  },
  {
   "cell_type": "markdown",
   "id": "de76a519-020d-468d-af17-02838b6df6a1",
   "metadata": {},
   "source": [
    "### Q5. What are some common functions you can use to manipulate data in a Pandas DataFrame? Can you give an example of when you might use one of these functions?"
   ]
  },
  {
   "cell_type": "raw",
   "id": "d1bddc2d-e2ac-4716-80e1-4a4d3fa28f2b",
   "metadata": {},
   "source": [
    "Common DataFrame functions include:\n",
    "\n",
    "head() / tail(): View first/last n rows\n",
    "info(): Get concise summary of DataFrame\n",
    "describe(): Generate descriptive statistics\n",
    "drop(): Remove specified rows or columns(axis=1 for column drop)\n",
    "groupby(): Group data for aggregation\n",
    "sort_values(): Sort by values\n",
    "merge() / join(): Combine DataFrames\n",
    "fillna(): Fill missing values"
   ]
  },
  {
   "cell_type": "code",
   "execution_count": 9,
   "id": "f8c9d0bb-71df-4485-86a9-07c51807b7c2",
   "metadata": {},
   "outputs": [
    {
     "name": "stdout",
     "output_type": "stream",
     "text": [
      "Category\n",
      "A    30.0\n",
      "B    30.0\n",
      "Name: Value, dtype: float64\n"
     ]
    }
   ],
   "source": [
    "## Example using groupby():\n",
    "import pandas as pd\n",
    "\n",
    "# Sample DataFrame\n",
    "df = pd.DataFrame({\n",
    "    'Category': ['A', 'B', 'A', 'B', 'A'],\n",
    "    'Value': [10, 20, 30, 40, 50]\n",
    "})\n",
    "\n",
    "# Group by 'Category' and calculate mean 'Value'\n",
    "grouped = df.groupby('Category')['Value'].mean()\n",
    "print(grouped)"
   ]
  },
  {
   "cell_type": "markdown",
   "id": "e984bad2-640b-45c7-bdfc-b18a8d972d3f",
   "metadata": {},
   "source": [
    "### Q6. Which of the following is mutable in nature Series, DataFrame, Panel?"
   ]
  },
  {
   "cell_type": "markdown",
   "id": "3488dee5-8ba2-4ea5-8c2b-4f2480835590",
   "metadata": {},
   "source": [
    "Answer:\n",
    "Both Series and DataFrame are mutable in nature. This means you can change their content after creation. Panel was also mutable, but it's worth noting that Panel has been deprecated since pandas version 0.25.0 and removed in version 1.0.0."
   ]
  },
  {
   "cell_type": "code",
   "execution_count": 10,
   "id": "764ff0db-bb2e-469f-b9fa-95676c33f7bb",
   "metadata": {},
   "outputs": [
    {
     "name": "stdout",
     "output_type": "stream",
     "text": [
      "Original Series:\n",
      "0    1\n",
      "1    2\n",
      "2    3\n",
      "3    4\n",
      "dtype: int64\n",
      "\n",
      "Modified Series:\n",
      "0     1\n",
      "1    10\n",
      "2     3\n",
      "3     4\n",
      "dtype: int64\n",
      "\n",
      "Original DataFrame:\n",
      "   A  B\n",
      "0  1  4\n",
      "1  2  5\n",
      "2  3  6\n",
      "\n",
      "Modified DataFrame:\n",
      "    A  B\n",
      "0   1  4\n",
      "1  20  5\n",
      "2   3  6\n"
     ]
    }
   ],
   "source": [
    "import pandas as pd\n",
    "\n",
    "# Series\n",
    "s = pd.Series([1, 2, 3, 4])\n",
    "print(\"Original Series:\")\n",
    "print(s)\n",
    "\n",
    "s[1] = 10  # Modifying an element\n",
    "print(\"\\nModified Series:\")\n",
    "print(s)\n",
    "\n",
    "# DataFrame\n",
    "df = pd.DataFrame({'A': [1, 2, 3], 'B': [4, 5, 6]})\n",
    "print(\"\\nOriginal DataFrame:\")\n",
    "print(df)\n",
    "\n",
    "df.loc[1, 'A'] = 20  # Modifying an element\n",
    "print(\"\\nModified DataFrame:\")\n",
    "print(df)"
   ]
  },
  {
   "cell_type": "markdown",
   "id": "766ae434-7f7b-407b-bd52-1f6055e13b79",
   "metadata": {},
   "source": [
    "### Q7. Create a DataFrame using multiple Series. Explain with an example."
   ]
  },
  {
   "cell_type": "code",
   "execution_count": 11,
   "id": "1173ceb8-c281-4baa-a32f-c349ba420a53",
   "metadata": {},
   "outputs": [
    {
     "name": "stdout",
     "output_type": "stream",
     "text": [
      "      Name  Age           City\n",
      "0    Alice   25       New York\n",
      "1      Bob   30  San Francisco\n",
      "2  Charlie   35    Los Angeles\n"
     ]
    }
   ],
   "source": [
    "import pandas as pd\n",
    "\n",
    "# Create individual Series\n",
    "name_series = pd.Series(['Alice', 'Bob', 'Charlie'], name='Name')\n",
    "age_series = pd.Series([25, 30, 35], name='Age')\n",
    "city_series = pd.Series(['New York', 'San Francisco', 'Los Angeles'], name='City')\n",
    "\n",
    "# Create DataFrame from Series\n",
    "df = pd.DataFrame({\n",
    "    'Name': name_series,\n",
    "    'Age': age_series,\n",
    "    'City': city_series\n",
    "})\n",
    "\n",
    "print(df)"
   ]
  },
  {
   "cell_type": "code",
   "execution_count": null,
   "id": "030920a6-98c2-4da9-8592-9e3a47c6fdce",
   "metadata": {},
   "outputs": [],
   "source": []
  }
 ],
 "metadata": {
  "kernelspec": {
   "display_name": "Python 3 (ipykernel)",
   "language": "python",
   "name": "python3"
  },
  "language_info": {
   "codemirror_mode": {
    "name": "ipython",
    "version": 3
   },
   "file_extension": ".py",
   "mimetype": "text/x-python",
   "name": "python",
   "nbconvert_exporter": "python",
   "pygments_lexer": "ipython3",
   "version": "3.10.8"
  }
 },
 "nbformat": 4,
 "nbformat_minor": 5
}
